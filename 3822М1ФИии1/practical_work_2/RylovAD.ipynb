{
 "cells": [
  {
   "cell_type": "markdown",
   "id": "7f3726eb",
   "metadata": {
    "cellId": "5yxdneo43fnvpk7cum8w3k",
    "execution_id": "62636611-99e2-4253-8fc8-26de2b272e11"
   },
   "source": [
    "# Подключение библиотек"
   ]
  },
  {
   "cell_type": "code",
   "execution_count": 192,
   "id": "aea5eca3",
   "metadata": {
    "cellId": "qlwmeut9qnc5sixoapnajg",
    "execution": {
     "iopub.execute_input": "2023-11-16T15:05:35.921359940Z",
     "iopub.status.busy": "2023-11-16T15:06:10.174543Z",
     "iopub.status.idle": "2023-11-16T15:06:27.471461Z",
     "shell.execute_reply": "2023-11-16T15:06:27.470604Z",
     "shell.execute_reply.started": "2023-11-16T15:06:10.175258Z"
    },
    "tags": []
   },
   "outputs": [],
   "source": [
    "#!g1.2\n",
    "import torch\n",
    "\n",
    "import torch.nn as nn\n",
    "\n",
    "import torchvision\n",
    "\n",
    "from torchvision.datasets.utils import download_url\n",
    "from torchvision.datasets import ImageFolder\n",
    "from torchvision.transforms import ToTensor\n",
    "\n",
    "import tarfile\n",
    "\n",
    "import matplotlib.pyplot as plt\n",
    "%matplotlib inline\n",
    "\n",
    "from tqdm.notebook import tqdm, trange\n",
    "\n",
    "import time\n",
    "\n",
    "import os"
   ]
  },
  {
   "cell_type": "markdown",
   "id": "4dcb83eb",
   "metadata": {
    "cellId": "vv4bqxie008b4lk50dxn9h",
    "execution_id": "2f9e3a6d-3def-4554-b8e4-20992e0c792e"
   },
   "source": [
    "# Загрузка данных"
   ]
  },
  {
   "cell_type": "code",
   "execution_count": 193,
   "id": "aa0e09bd",
   "metadata": {
    "cellId": "54824bynwcvxkw9moosadp",
    "execution": {
     "iopub.execute_input": "2023-11-16T15:05:36.399738737Z",
     "iopub.status.busy": "2023-11-16T15:06:28.385363Z",
     "iopub.status.idle": "2023-11-16T15:06:49.524514Z",
     "shell.execute_reply": "2023-11-16T15:06:49.523590Z",
     "shell.execute_reply.started": "2023-11-16T15:06:28.386020Z"
    },
    "tags": []
   },
   "outputs": [
    {
     "name": "stdout",
     "output_type": "stream",
     "text": [
      "Files already downloaded and verified\n",
      "Files already downloaded and verified\n"
     ]
    }
   ],
   "source": [
    "#!g1.2\n",
    "dir_name = os.getcwd()\n",
    "train_dataset = torchvision.datasets.CIFAR10(\n",
    "    root = dir_name, train = True, download = True,\n",
    "    transform = torchvision.transforms.ToTensor()\n",
    ")\n",
    "test_dataset = torchvision.datasets.CIFAR10(\n",
    "    root = dir_name, train = False, download = True,\n",
    "    transform = torchvision.transforms.ToTensor()\n",
    ")"
   ]
  },
  {
   "cell_type": "code",
   "execution_count": 194,
   "id": "32205c86",
   "metadata": {
    "cellId": "5yxrcjq5s9nd6rc8b1bnc5",
    "execution": {
     "iopub.execute_input": "2023-11-16T15:05:36.851410211Z",
     "iopub.status.busy": "2023-11-16T15:06:50.433562Z",
     "iopub.status.idle": "2023-11-16T15:06:50.453948Z",
     "shell.execute_reply": "2023-11-16T15:06:50.453005Z",
     "shell.execute_reply.started": "2023-11-16T15:06:50.434282Z"
    },
    "tags": []
   },
   "outputs": [],
   "source": [
    "#!g1.2\n",
    "train_data_loader = torch.utils.data.DataLoader(\n",
    "    train_dataset, batch_size = 100, shuffle = True\n",
    ")\n",
    "test_data_loader = torch.utils.data.DataLoader(\n",
    "    test_dataset, batch_size = 100, shuffle = False\n",
    ")"
   ]
  },
  {
   "cell_type": "markdown",
   "id": "63bcb1e9",
   "metadata": {
    "cellId": "wwmy4dkmmdwdkhkf3lso",
    "execution_id": "182273c6-1879-4956-a5b4-72ff54250788"
   },
   "source": [
    "# Объявление моделей"
   ]
  },
  {
   "cell_type": "code",
   "execution_count": 195,
   "id": "c21d159d",
   "metadata": {
    "cellId": "5nhovzfbto95kim60w0no8",
    "execution": {
     "iopub.execute_input": "2023-11-16T15:05:37.371398355Z",
     "iopub.status.busy": "2023-11-16T15:06:51.321532Z",
     "iopub.status.idle": "2023-11-16T15:09:37.137002Z",
     "shell.execute_reply": "2023-11-16T15:09:37.135951Z",
     "shell.execute_reply.started": "2023-11-16T15:06:51.322215Z"
    }
   },
   "outputs": [
    {
     "name": "stderr",
     "output_type": "stream",
     "text": [
      "Downloading: \"https://download.pytorch.org/models/resnet18-f37072fd.pth\" to /tmp/xdg_cache/torch/hub/checkpoints/resnet18-f37072fd.pth\n",
      "100%|██████████| 44.7M/44.7M [00:02<00:00, 18.8MB/s]\n",
      "Downloading: \"https://download.pytorch.org/models/resnet152-f82ba261.pth\" to /tmp/xdg_cache/torch/hub/checkpoints/resnet152-f82ba261.pth\n",
      "100%|██████████| 230M/230M [00:06<00:00, 39.0MB/s] \n",
      "Downloading: \"https://download.pytorch.org/models/efficientnet_b0_rwightman-3dd342df.pth\" to /tmp/xdg_cache/torch/hub/checkpoints/efficientnet_b0_rwightman-3dd342df.pth\n",
      "100%|██████████| 20.5M/20.5M [00:01<00:00, 17.7MB/s]\n",
      "Downloading: \"https://download.pytorch.org/models/efficientnet_b7_lukemelas-dcc49843.pth\" to /tmp/xdg_cache/torch/hub/checkpoints/efficientnet_b7_lukemelas-dcc49843.pth\n",
      "100%|██████████| 255M/255M [00:13<00:00, 19.7MB/s] \n"
     ]
    },
    {
     "name": "stdout",
     "output_type": "stream",
     "text": [
      "cuda\n"
     ]
    }
   ],
   "source": [
    "#!g1.2\n",
    "modelsList = [\n",
    "    (torchvision.models.resnet18, torchvision.models.ResNet18_Weights.DEFAULT, \"ResNet18\"),\n",
    "    (torchvision.models.resnet152, torchvision.models.ResNet152_Weights.DEFAULT, \"ResNet152\"),\n",
    "    (torchvision.models.efficientnet_b0, torchvision.models.EfficientNet_B0_Weights.DEFAULT, \"EfficientNet_B0\"),\n",
    "    (torchvision.models.efficientnet_b7, torchvision.models.EfficientNet_B7_Weights.DEFAULT, \"EfficientNet_B7\")\n",
    "]\n",
    "for model, weights, _ in modelsList:\n",
    "    model(weights = weights)\n",
    "device = torch.device(\"cuda\" if torch.cuda.is_available() else \"cpu\")\n",
    "print(device)"
   ]
  },
  {
   "cell_type": "code",
   "execution_count": 196,
   "id": "e9f9f5c3",
   "metadata": {
    "cellId": "89jflmwebwlx9l6uln3loj",
    "execution": {
     "iopub.execute_input": "2023-11-16T15:05:37.811508639Z",
     "iopub.status.busy": "2023-11-16T15:09:38.004557Z",
     "iopub.status.idle": "2023-11-16T15:09:39.066571Z",
     "shell.execute_reply": "2023-11-16T15:09:39.065466Z",
     "shell.execute_reply.started": "2023-11-16T15:09:38.005493Z"
    }
   },
   "outputs": [],
   "source": [
    "#!g1.2\n",
    "def get_accuracy(data_loader, model, desc):\n",
    "    tp = 0\n",
    "    n = 0\n",
    "    with torch.no_grad():\n",
    "        for images, labels in data_loader: #tqdm(data_loader, leave=False, desc = desc):\n",
    "            labels = labels.to(device)\n",
    "            images = images.to(device)\n",
    "            outputs = model(images)\n",
    "            _, predicted = torch.max(outputs.data, 1)\n",
    "            n += labels.size(0)\n",
    "            tp += (predicted == labels).sum()\n",
    "    return tp / n\n",
    "\n",
    "def TrainModel(model, trainDataloader, testDataloader, optimizer, lossFn, numEpochs):\n",
    "    trainScore, testScore = [0], [0]\n",
    "    timeSpend = []\n",
    "    pBar = trange(numEpochs, leave=False)\n",
    "    for epoch in pBar:\n",
    "        timeStart = time.time()\n",
    "        pBar.set_postfix({'Last train score': round(float(trainScore[-1]), 5), 'test score' : round(float(testScore[-1]), 5)})\n",
    "        for (images, labels) in train_data_loader: #tqdm(train_data_loader, leave=False, desc = 'training'):\n",
    "            images = images.to(device)\n",
    "            labels = labels.to(device)\n",
    "\n",
    "            outputs = model(images)\n",
    "            loss = lossFn(outputs, labels)\n",
    "\n",
    "            optimizer.zero_grad()\n",
    "            loss.backward()\n",
    "            optimizer.step()\n",
    "\n",
    "        timeSpend.append(time.time() - timeStart)\n",
    "\n",
    "        trainScore.append(get_accuracy(trainDataloader, model, 'Calculating train score'))\n",
    "        testScore.append(get_accuracy(testDataloader, model, 'Calculating test score'))\n",
    "    return (timeSpend, trainScore, testScore)"
   ]
  },
  {
   "cell_type": "markdown",
   "id": "ff3ee80a",
   "metadata": {
    "cellId": "rgz50xs9oyqjcydfv1d2m",
    "execution_id": "b22cdf49-e5e3-45a6-933f-80f792660900"
   },
   "source": [
    "# Обучение моделей"
   ]
  },
  {
   "cell_type": "code",
   "execution_count": 198,
   "id": "0374ad8b",
   "metadata": {
    "cellId": "ww03qa93tqr6ue74o4enp",
    "execution": {
     "iopub.execute_input": "2023-11-16T15:11:58.865366915Z",
     "iopub.status.busy": "2023-11-16T15:11:59.861476Z",
     "iopub.status.idle": "2023-11-16T18:01:49.605763Z",
     "shell.execute_reply": "2023-11-16T18:01:49.604828Z",
     "shell.execute_reply.started": "2023-11-16T15:11:59.862273Z"
    }
   },
   "outputs": [
    {
     "data": {
      "application/vnd.jupyter.widget-view+json": {
       "model_id": "b37cdad8b32c426ba597de868d1f74dc",
       "version_major": 2,
       "version_minor": 0
      },
      "text/plain": [
       "  0%|          | 0/4 [00:00<?, ?it/s]"
      ]
     },
     "metadata": {},
     "output_type": "display_data"
    },
    {
     "data": {
      "application/vnd.jupyter.widget-view+json": {
       "model_id": "d53956f2f65e4d01a00310142cd241d3",
       "version_major": 2,
       "version_minor": 0
      },
      "text/plain": [
       "  0%|          | 0/30 [00:00<?, ?it/s]"
      ]
     },
     "metadata": {},
     "output_type": "display_data"
    },
    {
     "data": {
      "application/vnd.jupyter.widget-view+json": {
       "model_id": "7b2d1184f06943dfb7beb9d1f13b99b4",
       "version_major": 2,
       "version_minor": 0
      },
      "text/plain": [
       "  0%|          | 0/30 [00:00<?, ?it/s]"
      ]
     },
     "metadata": {},
     "output_type": "display_data"
    },
    {
     "data": {
      "application/vnd.jupyter.widget-view+json": {
       "model_id": "0581b37937af46dfbbee99e669800fe1",
       "version_major": 2,
       "version_minor": 0
      },
      "text/plain": [
       "  0%|          | 0/30 [00:00<?, ?it/s]"
      ]
     },
     "metadata": {},
     "output_type": "display_data"
    },
    {
     "data": {
      "application/vnd.jupyter.widget-view+json": {
       "model_id": "59950c6496634e538f26203fff0bfb6a",
       "version_major": 2,
       "version_minor": 0
      },
      "text/plain": [
       "  0%|          | 0/30 [00:00<?, ?it/s]"
      ]
     },
     "metadata": {},
     "output_type": "display_data"
    },
    {
     "data": {
      "application/vnd.jupyter.widget-view+json": {
       "model_id": "ad522719fd8046f7884e7bf6667cdf0f",
       "version_major": 2,
       "version_minor": 0
      },
      "text/plain": [
       "  0%|          | 0/30 [00:00<?, ?it/s]"
      ]
     },
     "metadata": {},
     "output_type": "display_data"
    },
    {
     "data": {
      "application/vnd.jupyter.widget-view+json": {
       "model_id": "51ca25fa36c04c0ab854c75d3caca5cb",
       "version_major": 2,
       "version_minor": 0
      },
      "text/plain": [
       "  0%|          | 0/30 [00:00<?, ?it/s]"
      ]
     },
     "metadata": {},
     "output_type": "display_data"
    },
    {
     "data": {
      "application/vnd.jupyter.widget-view+json": {
       "model_id": "3c18e5d8b15a4e369de2de59f98587a3",
       "version_major": 2,
       "version_minor": 0
      },
      "text/plain": [
       "  0%|          | 0/30 [00:00<?, ?it/s]"
      ]
     },
     "metadata": {},
     "output_type": "display_data"
    },
    {
     "data": {
      "application/vnd.jupyter.widget-view+json": {
       "model_id": "a244f9e5a53d4f60a2d8054bcddd1bde",
       "version_major": 2,
       "version_minor": 0
      },
      "text/plain": [
       "  0%|          | 0/30 [00:00<?, ?it/s]"
      ]
     },
     "metadata": {},
     "output_type": "display_data"
    }
   ],
   "source": [
    "#!g1.2\n",
    "learningRate = 0.05\n",
    "numEpochs = 30\n",
    "results = []\n",
    "\n",
    "pBar = tqdm(modelsList, leave=False)\n",
    "for modelName, modelWeights, modelLabel in pBar:\n",
    "    pBar.set_description(modelLabel)\n",
    "    model = modelName(weights = modelWeights).to(device)\n",
    "    if hasattr(model, 'fc'):\n",
    "        model.fc = torch.nn.Linear(model.fc.in_features, 10).to(device)\n",
    "    else:\n",
    "        model.classifier[-1] = torch.nn.Linear(model.classifier[-1].in_features, 10).to(device)\n",
    "\n",
    "    loss_fn = nn.CrossEntropyLoss()\n",
    "    optimizer = torch.optim.SGD(model.parameters(), lr=learningRate)\n",
    "    res = TrainModel(model=model,\n",
    "                     trainDataloader=train_data_loader,\n",
    "                     testDataloader=test_data_loader,\n",
    "                     optimizer=optimizer,\n",
    "                     lossFn=loss_fn,\n",
    "                     numEpochs=numEpochs)\n",
    "    results.append((modelLabel + \" full\", res))\n",
    "    \n",
    "    model = modelName(weights = modelWeights).to(device)\n",
    "    for param in model.parameters():\n",
    "        param.requires_grad = False\n",
    "    if hasattr(model, 'fc'):\n",
    "        model.fc = torch.nn.Linear(model.fc.in_features, 10).to(device)\n",
    "        optimizer = torch.optim.SGD(model.fc.parameters(), lr=learningRate)\n",
    "    else:\n",
    "        model.classifier[-1] = torch.nn.Linear(model.classifier[-1].in_features, 10).to(device)\n",
    "        optimizer = torch.optim.SGD(model.classifier[-1].parameters(), lr=learningRate)\n",
    "\n",
    "    loss_fn = nn.CrossEntropyLoss()\n",
    "    res = TrainModel(model=model,\n",
    "                     trainDataloader=train_data_loader,\n",
    "                     testDataloader=test_data_loader,\n",
    "                     optimizer=optimizer,\n",
    "                     lossFn=loss_fn,\n",
    "                     numEpochs=numEpochs)\n",
    "    results.append((modelLabel + \" last layer\", res))"
   ]
  },
  {
   "cell_type": "markdown",
   "id": "f36452b1",
   "metadata": {
    "cellId": "nckvf6uc2iaalkvylqttn",
    "execution_id": "8519085e-4b6a-4864-831b-afffbbef244f"
   },
   "source": [
    "# Результаты"
   ]
  },
  {
   "cell_type": "code",
   "execution_count": 205,
   "id": "7dbfac1f",
   "metadata": {
    "cellId": "867uz80ieh476j1l69njup",
    "execution": {
     "iopub.execute_input": "2023-11-16T18:52:29.471426101Z",
     "iopub.status.busy": "2023-11-16T18:52:30.348321Z",
     "iopub.status.idle": "2023-11-16T18:52:30.580883Z",
     "shell.execute_reply": "2023-11-16T18:52:30.580040Z",
     "shell.execute_reply.started": "2023-11-16T18:52:30.349037Z"
    }
   },
   "outputs": [
    {
     "data": {
      "image/png": "[encoded data removed]",
      "text/plain": [
       "<Figure size 1800x360 with 1 Axes>"
      ]
     },
     "metadata": {
      "needs_background": "light"
     },
     "output_type": "display_data"
    }
   ],
   "source": [
    "#!g1.2\n",
    "fig, ax = plt.subplots(1, 1, figsize = (25, 5))\n",
    "oldRes = 0.76\n",
    "ax.bar([i for i in range(len(results) + 1)], \n",
    "       [float(max(val[1][2])) for val in results] + [oldRes],\n",
    "       tick_label = [f'{val[0]}\\n{float(max(val[1][2]))}' for val in results] + [oldRes])\n",
    "plt.show()"
   ]
  },
  {
   "cell_type": "markdown",
   "id": "39ef0f09",
   "metadata": {
    "cellId": "e6nmko2mjq9p2fjhsupxwg",
    "execution_id": "0062d67b-c464-4c04-9612-ef4200c44c0d"
   },
   "source": [
    "В результате лучшую точность показала модель ResNet152 при условии полного обучения. Тончость оказалась равна 85%.\n",
    "Также хочется отметить что все модели, у которых обучался только последний слой показали гораздо хучший результат по сравнению с полностью обученными версиями."
   ]
  }
 ],
 "metadata": {
  "language_info": {
   "codemirror_mode": {
    "name": "ipython",
    "version": 3
   },
   "file_extension": ".py",
   "mimetype": "text/x-python",
   "name": "python",
   "nbconvert_exporter": "python",
   "pygments_lexer": "ipython3",
   "version": "3.7.7"
  },
  "notebookId": "d5e225fd-3daf-40a8-aba2-ffbd658a5084",
  "notebookPath": "Untitled.ipynb"
 },
 "nbformat": 4,
 "nbformat_minor": 5
}
